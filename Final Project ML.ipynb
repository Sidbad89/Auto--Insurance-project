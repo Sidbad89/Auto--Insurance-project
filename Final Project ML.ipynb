{
 "cells": [
  {
   "cell_type": "code",
   "execution_count": 1,
   "id": "83bfdfa4",
   "metadata": {},
   "outputs": [
    {
     "data": {
      "text/html": [
       "<div>\n",
       "<style scoped>\n",
       "    .dataframe tbody tr th:only-of-type {\n",
       "        vertical-align: middle;\n",
       "    }\n",
       "\n",
       "    .dataframe tbody tr th {\n",
       "        vertical-align: top;\n",
       "    }\n",
       "\n",
       "    .dataframe thead th {\n",
       "        text-align: right;\n",
       "    }\n",
       "</style>\n",
       "<table border=\"1\" class=\"dataframe\">\n",
       "  <thead>\n",
       "    <tr style=\"text-align: right;\">\n",
       "      <th></th>\n",
       "      <th>id</th>\n",
       "      <th>target</th>\n",
       "      <th>ps_ind_01</th>\n",
       "      <th>ps_ind_02_cat</th>\n",
       "      <th>ps_ind_03</th>\n",
       "      <th>ps_ind_04_cat</th>\n",
       "      <th>ps_ind_05_cat</th>\n",
       "      <th>ps_ind_06_bin</th>\n",
       "      <th>ps_ind_07_bin</th>\n",
       "      <th>ps_ind_08_bin</th>\n",
       "      <th>...</th>\n",
       "      <th>ps_calc_11</th>\n",
       "      <th>ps_calc_12</th>\n",
       "      <th>ps_calc_13</th>\n",
       "      <th>ps_calc_14</th>\n",
       "      <th>ps_calc_15_bin</th>\n",
       "      <th>ps_calc_16_bin</th>\n",
       "      <th>ps_calc_17_bin</th>\n",
       "      <th>ps_calc_18_bin</th>\n",
       "      <th>ps_calc_19_bin</th>\n",
       "      <th>ps_calc_20_bin</th>\n",
       "    </tr>\n",
       "  </thead>\n",
       "  <tbody>\n",
       "    <tr>\n",
       "      <th>0</th>\n",
       "      <td>7</td>\n",
       "      <td>0</td>\n",
       "      <td>2</td>\n",
       "      <td>2</td>\n",
       "      <td>5</td>\n",
       "      <td>1</td>\n",
       "      <td>0</td>\n",
       "      <td>0</td>\n",
       "      <td>1</td>\n",
       "      <td>0</td>\n",
       "      <td>...</td>\n",
       "      <td>9</td>\n",
       "      <td>1</td>\n",
       "      <td>5</td>\n",
       "      <td>8</td>\n",
       "      <td>0</td>\n",
       "      <td>1</td>\n",
       "      <td>1</td>\n",
       "      <td>0</td>\n",
       "      <td>0</td>\n",
       "      <td>1</td>\n",
       "    </tr>\n",
       "    <tr>\n",
       "      <th>1</th>\n",
       "      <td>9</td>\n",
       "      <td>0</td>\n",
       "      <td>1</td>\n",
       "      <td>1</td>\n",
       "      <td>7</td>\n",
       "      <td>0</td>\n",
       "      <td>0</td>\n",
       "      <td>0</td>\n",
       "      <td>0</td>\n",
       "      <td>1</td>\n",
       "      <td>...</td>\n",
       "      <td>3</td>\n",
       "      <td>1</td>\n",
       "      <td>1</td>\n",
       "      <td>9</td>\n",
       "      <td>0</td>\n",
       "      <td>1</td>\n",
       "      <td>1</td>\n",
       "      <td>0</td>\n",
       "      <td>1</td>\n",
       "      <td>0</td>\n",
       "    </tr>\n",
       "    <tr>\n",
       "      <th>2</th>\n",
       "      <td>13</td>\n",
       "      <td>0</td>\n",
       "      <td>5</td>\n",
       "      <td>4</td>\n",
       "      <td>9</td>\n",
       "      <td>1</td>\n",
       "      <td>0</td>\n",
       "      <td>0</td>\n",
       "      <td>0</td>\n",
       "      <td>1</td>\n",
       "      <td>...</td>\n",
       "      <td>4</td>\n",
       "      <td>2</td>\n",
       "      <td>7</td>\n",
       "      <td>7</td>\n",
       "      <td>0</td>\n",
       "      <td>1</td>\n",
       "      <td>1</td>\n",
       "      <td>0</td>\n",
       "      <td>1</td>\n",
       "      <td>0</td>\n",
       "    </tr>\n",
       "    <tr>\n",
       "      <th>3</th>\n",
       "      <td>16</td>\n",
       "      <td>0</td>\n",
       "      <td>0</td>\n",
       "      <td>1</td>\n",
       "      <td>2</td>\n",
       "      <td>0</td>\n",
       "      <td>0</td>\n",
       "      <td>1</td>\n",
       "      <td>0</td>\n",
       "      <td>0</td>\n",
       "      <td>...</td>\n",
       "      <td>2</td>\n",
       "      <td>2</td>\n",
       "      <td>4</td>\n",
       "      <td>9</td>\n",
       "      <td>0</td>\n",
       "      <td>0</td>\n",
       "      <td>0</td>\n",
       "      <td>0</td>\n",
       "      <td>0</td>\n",
       "      <td>0</td>\n",
       "    </tr>\n",
       "    <tr>\n",
       "      <th>4</th>\n",
       "      <td>17</td>\n",
       "      <td>0</td>\n",
       "      <td>0</td>\n",
       "      <td>2</td>\n",
       "      <td>0</td>\n",
       "      <td>1</td>\n",
       "      <td>0</td>\n",
       "      <td>1</td>\n",
       "      <td>0</td>\n",
       "      <td>0</td>\n",
       "      <td>...</td>\n",
       "      <td>3</td>\n",
       "      <td>1</td>\n",
       "      <td>1</td>\n",
       "      <td>3</td>\n",
       "      <td>0</td>\n",
       "      <td>0</td>\n",
       "      <td>0</td>\n",
       "      <td>1</td>\n",
       "      <td>1</td>\n",
       "      <td>0</td>\n",
       "    </tr>\n",
       "  </tbody>\n",
       "</table>\n",
       "<p>5 rows × 59 columns</p>\n",
       "</div>"
      ],
      "text/plain": [
       "   id  target  ps_ind_01  ps_ind_02_cat  ps_ind_03  ps_ind_04_cat  \\\n",
       "0   7       0          2              2          5              1   \n",
       "1   9       0          1              1          7              0   \n",
       "2  13       0          5              4          9              1   \n",
       "3  16       0          0              1          2              0   \n",
       "4  17       0          0              2          0              1   \n",
       "\n",
       "   ps_ind_05_cat  ps_ind_06_bin  ps_ind_07_bin  ps_ind_08_bin  ...  \\\n",
       "0              0              0              1              0  ...   \n",
       "1              0              0              0              1  ...   \n",
       "2              0              0              0              1  ...   \n",
       "3              0              1              0              0  ...   \n",
       "4              0              1              0              0  ...   \n",
       "\n",
       "   ps_calc_11  ps_calc_12  ps_calc_13  ps_calc_14  ps_calc_15_bin  \\\n",
       "0           9           1           5           8               0   \n",
       "1           3           1           1           9               0   \n",
       "2           4           2           7           7               0   \n",
       "3           2           2           4           9               0   \n",
       "4           3           1           1           3               0   \n",
       "\n",
       "   ps_calc_16_bin  ps_calc_17_bin  ps_calc_18_bin  ps_calc_19_bin  \\\n",
       "0               1               1               0               0   \n",
       "1               1               1               0               1   \n",
       "2               1               1               0               1   \n",
       "3               0               0               0               0   \n",
       "4               0               0               1               1   \n",
       "\n",
       "   ps_calc_20_bin  \n",
       "0               1  \n",
       "1               0  \n",
       "2               0  \n",
       "3               0  \n",
       "4               0  \n",
       "\n",
       "[5 rows x 59 columns]"
      ]
     },
     "execution_count": 1,
     "metadata": {},
     "output_type": "execute_result"
    }
   ],
   "source": [
    "import pandas as pd\n",
    "import numpy as np\n",
    "import seaborn as sns\n",
    "import matplotlib.pyplot as plt\n",
    "%matplotlib inline\n",
    "import os\n",
    "df=pd.read_csv ('train.csv')\n",
    "df.head()"
   ]
  },
  {
   "cell_type": "code",
   "execution_count": 2,
   "id": "00780e52",
   "metadata": {},
   "outputs": [],
   "source": [
    "from datetime import datetime\n",
    "from sklearn.linear_model import LogisticRegression\n",
    "from sklearn import svm\n",
    "from sklearn.model_selection import RandomizedSearchCV, GridSearchCV\n",
    "from xgboost import XGBClassifier\n",
    "import xgboost as xgb\n",
    "from sklearn.ensemble import RandomForestClassifier\n",
    "from sklearn.ensemble import AdaBoostClassifier\n",
    "from sklearn.neural_network import MLPClassifier\n",
    "from sklearn import metrics\n",
    "from sklearn.metrics import confusion_matrix,mean_squared_error,accuracy_score\n",
    "from sklearn.metrics import precision_score,recall_score,roc_auc_score,f1_score,cohen_kappa_score\n",
    "from sklearn.utils import resample\n",
    "from pprint import pprint\n",
    "\n",
    "import plotly as py\n",
    "import plotly.graph_objs as go\n",
    "import matplotlib.pyplot as plt\n",
    "import seaborn as sns\n",
    "import math\n",
    "from IPython.display import Markdown, display\n",
    "import statsmodels.api as sm # import API\n",
    "from matplotlib.pyplot import xticks"
   ]
  },
  {
   "cell_type": "code",
   "execution_count": 3,
   "id": "73df727f",
   "metadata": {},
   "outputs": [
    {
     "data": {
      "text/plain": [
       "(595212, 59)"
      ]
     },
     "execution_count": 3,
     "metadata": {},
     "output_type": "execute_result"
    }
   ],
   "source": [
    "df.shape"
   ]
  },
  {
   "cell_type": "code",
   "execution_count": 4,
   "id": "ceaa13ae",
   "metadata": {
    "scrolled": true
   },
   "outputs": [
    {
     "name": "stdout",
     "output_type": "stream",
     "text": [
      "<class 'pandas.core.frame.DataFrame'>\n",
      "RangeIndex: 595212 entries, 0 to 595211\n",
      "Data columns (total 59 columns):\n",
      " #   Column          Non-Null Count   Dtype  \n",
      "---  ------          --------------   -----  \n",
      " 0   id              595212 non-null  int64  \n",
      " 1   target          595212 non-null  int64  \n",
      " 2   ps_ind_01       595212 non-null  int64  \n",
      " 3   ps_ind_02_cat   595212 non-null  int64  \n",
      " 4   ps_ind_03       595212 non-null  int64  \n",
      " 5   ps_ind_04_cat   595212 non-null  int64  \n",
      " 6   ps_ind_05_cat   595212 non-null  int64  \n",
      " 7   ps_ind_06_bin   595212 non-null  int64  \n",
      " 8   ps_ind_07_bin   595212 non-null  int64  \n",
      " 9   ps_ind_08_bin   595212 non-null  int64  \n",
      " 10  ps_ind_09_bin   595212 non-null  int64  \n",
      " 11  ps_ind_10_bin   595212 non-null  int64  \n",
      " 12  ps_ind_11_bin   595212 non-null  int64  \n",
      " 13  ps_ind_12_bin   595212 non-null  int64  \n",
      " 14  ps_ind_13_bin   595212 non-null  int64  \n",
      " 15  ps_ind_14       595212 non-null  int64  \n",
      " 16  ps_ind_15       595212 non-null  int64  \n",
      " 17  ps_ind_16_bin   595212 non-null  int64  \n",
      " 18  ps_ind_17_bin   595212 non-null  int64  \n",
      " 19  ps_ind_18_bin   595212 non-null  int64  \n",
      " 20  ps_reg_01       595212 non-null  float64\n",
      " 21  ps_reg_02       595212 non-null  float64\n",
      " 22  ps_reg_03       595212 non-null  float64\n",
      " 23  ps_car_01_cat   595212 non-null  int64  \n",
      " 24  ps_car_02_cat   595212 non-null  int64  \n",
      " 25  ps_car_03_cat   595212 non-null  int64  \n",
      " 26  ps_car_04_cat   595212 non-null  int64  \n",
      " 27  ps_car_05_cat   595212 non-null  int64  \n",
      " 28  ps_car_06_cat   595212 non-null  int64  \n",
      " 29  ps_car_07_cat   595212 non-null  int64  \n",
      " 30  ps_car_08_cat   595212 non-null  int64  \n",
      " 31  ps_car_09_cat   595212 non-null  int64  \n",
      " 32  ps_car_10_cat   595212 non-null  int64  \n",
      " 33  ps_car_11_cat   595212 non-null  int64  \n",
      " 34  ps_car_11       595212 non-null  int64  \n",
      " 35  ps_car_12       595212 non-null  float64\n",
      " 36  ps_car_13       595212 non-null  float64\n",
      " 37  ps_car_14       595212 non-null  float64\n",
      " 38  ps_car_15       595212 non-null  float64\n",
      " 39  ps_calc_01      595212 non-null  float64\n",
      " 40  ps_calc_02      595212 non-null  float64\n",
      " 41  ps_calc_03      595212 non-null  float64\n",
      " 42  ps_calc_04      595212 non-null  int64  \n",
      " 43  ps_calc_05      595212 non-null  int64  \n",
      " 44  ps_calc_06      595212 non-null  int64  \n",
      " 45  ps_calc_07      595212 non-null  int64  \n",
      " 46  ps_calc_08      595212 non-null  int64  \n",
      " 47  ps_calc_09      595212 non-null  int64  \n",
      " 48  ps_calc_10      595212 non-null  int64  \n",
      " 49  ps_calc_11      595212 non-null  int64  \n",
      " 50  ps_calc_12      595212 non-null  int64  \n",
      " 51  ps_calc_13      595212 non-null  int64  \n",
      " 52  ps_calc_14      595212 non-null  int64  \n",
      " 53  ps_calc_15_bin  595212 non-null  int64  \n",
      " 54  ps_calc_16_bin  595212 non-null  int64  \n",
      " 55  ps_calc_17_bin  595212 non-null  int64  \n",
      " 56  ps_calc_18_bin  595212 non-null  int64  \n",
      " 57  ps_calc_19_bin  595212 non-null  int64  \n",
      " 58  ps_calc_20_bin  595212 non-null  int64  \n",
      "dtypes: float64(10), int64(49)\n",
      "memory usage: 267.9 MB\n"
     ]
    }
   ],
   "source": [
    "df.info()"
   ]
  },
  {
   "cell_type": "code",
   "execution_count": 17,
   "id": "022abf2f",
   "metadata": {
    "scrolled": false
   },
   "outputs": [
    {
     "name": "stdout",
     "output_type": "stream",
     "text": [
      "          variable    role        level  keep    dtype  uvc\n",
      "0               id      id  categorical  True    int64  NaN\n",
      "1           target  target       binary  True    int64  NaN\n",
      "2        ps_ind_01   input      ordinal  True    int64  NaN\n",
      "3    ps_ind_02_cat   input  categorical  True    int64  NaN\n",
      "4        ps_ind_03   input      ordinal  True    int64  NaN\n",
      "5    ps_ind_04_cat   input  categorical  True    int64  NaN\n",
      "6    ps_ind_05_cat   input  categorical  True    int64  NaN\n",
      "7    ps_ind_06_bin   input       binary  True    int64  NaN\n",
      "8    ps_ind_07_bin   input       binary  True    int64  NaN\n",
      "9    ps_ind_08_bin   input       binary  True    int64  NaN\n",
      "10   ps_ind_09_bin   input       binary  True    int64  NaN\n",
      "11   ps_ind_10_bin   input       binary  True    int64  NaN\n",
      "12   ps_ind_11_bin   input       binary  True    int64  NaN\n",
      "13   ps_ind_12_bin   input       binary  True    int64  NaN\n",
      "14   ps_ind_13_bin   input       binary  True    int64  NaN\n",
      "15       ps_ind_14   input      ordinal  True    int64  NaN\n",
      "16       ps_ind_15   input      ordinal  True    int64  NaN\n",
      "17   ps_ind_16_bin   input       binary  True    int64  NaN\n",
      "18   ps_ind_17_bin   input       binary  True    int64  NaN\n",
      "19   ps_ind_18_bin   input       binary  True    int64  NaN\n",
      "20       ps_reg_01   input     interval  True  float64  NaN\n",
      "21       ps_reg_02   input     interval  True  float64  NaN\n",
      "22       ps_reg_03   input     interval  True  float64  NaN\n",
      "23   ps_car_01_cat   input  categorical  True    int64  NaN\n",
      "24   ps_car_02_cat   input  categorical  True    int64  NaN\n",
      "25   ps_car_03_cat   input  categorical  True    int64  NaN\n",
      "26   ps_car_04_cat   input  categorical  True    int64  NaN\n",
      "27   ps_car_05_cat   input  categorical  True    int64  NaN\n",
      "28   ps_car_06_cat   input  categorical  True    int64  NaN\n",
      "29   ps_car_07_cat   input  categorical  True    int64  NaN\n",
      "30   ps_car_08_cat   input  categorical  True    int64  NaN\n",
      "31   ps_car_09_cat   input  categorical  True    int64  NaN\n",
      "32   ps_car_10_cat   input  categorical  True    int64  NaN\n",
      "33   ps_car_11_cat   input  categorical  True    int64  NaN\n",
      "34       ps_car_11   input      ordinal  True    int64  NaN\n",
      "35       ps_car_12   input     interval  True  float64  NaN\n",
      "36       ps_car_13   input     interval  True  float64  NaN\n",
      "37       ps_car_14   input     interval  True  float64  NaN\n",
      "38       ps_car_15   input     interval  True  float64  NaN\n",
      "39      ps_calc_01   input     interval  True  float64  NaN\n",
      "40      ps_calc_02   input     interval  True  float64  NaN\n",
      "41      ps_calc_03   input     interval  True  float64  NaN\n",
      "42      ps_calc_04   input      ordinal  True    int64  NaN\n",
      "43      ps_calc_05   input      ordinal  True    int64  NaN\n",
      "44      ps_calc_06   input      ordinal  True    int64  NaN\n",
      "45      ps_calc_07   input      ordinal  True    int64  NaN\n",
      "46      ps_calc_08   input      ordinal  True    int64  NaN\n",
      "47      ps_calc_09   input      ordinal  True    int64  NaN\n",
      "48      ps_calc_10   input      ordinal  True    int64  NaN\n",
      "49      ps_calc_11   input      ordinal  True    int64  NaN\n",
      "50      ps_calc_12   input      ordinal  True    int64  NaN\n",
      "51      ps_calc_13   input      ordinal  True    int64  NaN\n",
      "52      ps_calc_14   input      ordinal  True    int64  NaN\n",
      "53  ps_calc_15_bin   input       binary  True    int64  NaN\n",
      "54  ps_calc_16_bin   input       binary  True    int64  NaN\n",
      "55  ps_calc_17_bin   input       binary  True    int64  NaN\n",
      "56  ps_calc_18_bin   input       binary  True    int64  NaN\n",
      "57  ps_calc_19_bin   input       binary  True    int64  NaN\n",
      "58  ps_calc_20_bin   input       binary  True    int64  NaN\n"
     ]
    },
    {
     "name": "stderr",
     "output_type": "stream",
     "text": [
      "C:\\Users\\Admin\\AppData\\Local\\Temp\\ipykernel_8160\\3445599150.py:38: FutureWarning: The frame.append method is deprecated and will be removed from pandas in a future version. Use pandas.concat instead.\n",
      "  df1 = df1.append(emp_list)\n"
     ]
    }
   ],
   "source": [
    "df1 = pd.DataFrame(columns=['variable','role', 'level', 'keep', 'dtype','uvc'])\n",
    "emp_list =[]\n",
    "for columns in df.columns:\n",
    "     \n",
    "    if columns == 'id':\n",
    "        role = 'id'\n",
    "    elif columns == 'target':\n",
    "        role = 'target'\n",
    "    else:\n",
    "        role = 'input'   \n",
    "       \n",
    "    dtype = df[columns].dtype   \n",
    "    \n",
    "    Unique_Values_Count = pd.DataFrame(df.nunique().astype(int),columns=['uvc'])\n",
    "    \n",
    "    keep = True   \n",
    "    \n",
    "    if columns[-3:] == 'bin' or columns == 'target':\n",
    "        level = 'binary'\n",
    "    elif columns[-3:] == 'cat' or columns == 'id':\n",
    "        level = 'categorical' \n",
    "    elif df[columns].dtype == float:\n",
    "        level = 'interval'\n",
    "    elif df[columns].dtype == np.int64:\n",
    "        level = 'ordinal'\n",
    "        \n",
    "    \n",
    "    f_dict = {\n",
    "        'variable' : columns,\n",
    "        'role': role,\n",
    "        'level': level,\n",
    "        'keep': keep,\n",
    "        'dtype': dtype,\n",
    "            }\n",
    "    \n",
    "    emp_list.append(f_dict)\n",
    "\n",
    "df1 = df1.append(emp_list)\n",
    "\n",
    "print(df1)"
   ]
  },
  {
   "cell_type": "code",
   "execution_count": 6,
   "id": "a3d62f14",
   "metadata": {},
   "outputs": [
    {
     "data": {
      "text/html": [
       "<div>\n",
       "<style scoped>\n",
       "    .dataframe tbody tr th:only-of-type {\n",
       "        vertical-align: middle;\n",
       "    }\n",
       "\n",
       "    .dataframe tbody tr th {\n",
       "        vertical-align: top;\n",
       "    }\n",
       "\n",
       "    .dataframe thead th {\n",
       "        text-align: right;\n",
       "    }\n",
       "</style>\n",
       "<table border=\"1\" class=\"dataframe\">\n",
       "  <thead>\n",
       "    <tr style=\"text-align: right;\">\n",
       "      <th></th>\n",
       "      <th>variable</th>\n",
       "    </tr>\n",
       "    <tr>\n",
       "      <th>level</th>\n",
       "      <th></th>\n",
       "    </tr>\n",
       "  </thead>\n",
       "  <tbody>\n",
       "    <tr>\n",
       "      <th>binary</th>\n",
       "      <td>18</td>\n",
       "    </tr>\n",
       "    <tr>\n",
       "      <th>categorical</th>\n",
       "      <td>15</td>\n",
       "    </tr>\n",
       "    <tr>\n",
       "      <th>interval</th>\n",
       "      <td>10</td>\n",
       "    </tr>\n",
       "    <tr>\n",
       "      <th>ordinal</th>\n",
       "      <td>16</td>\n",
       "    </tr>\n",
       "  </tbody>\n",
       "</table>\n",
       "</div>"
      ],
      "text/plain": [
       "             variable\n",
       "level                \n",
       "binary             18\n",
       "categorical        15\n",
       "interval           10\n",
       "ordinal            16"
      ]
     },
     "execution_count": 6,
     "metadata": {},
     "output_type": "execute_result"
    }
   ],
   "source": [
    "df1.groupby('level')[['variable']].count()\n"
   ]
  },
  {
   "cell_type": "code",
   "execution_count": null,
   "id": "92c02e98",
   "metadata": {},
   "outputs": [],
   "source": [
    "from pandas_profiling import ProfileReport\n",
    "profile = ProfileReport(df, title=\"Pandas Profiling Report\")\n",
    "profile.to_file(\"your_report.html\")"
   ]
  },
  {
   "cell_type": "code",
   "execution_count": 7,
   "id": "80bc56b7",
   "metadata": {},
   "outputs": [
    {
     "name": "stdout",
     "output_type": "stream",
     "text": [
      "Percentge distribution of class '1' & class '0':\n",
      "\n",
      " 0    96.355248\n",
      "1     3.644752\n",
      "Name: target, dtype: float64\n"
     ]
    },
    {
     "data": {
      "image/png": "[encoded data removed]",
      "text/plain": [
       "<Figure size 432x288 with 1 Axes>"
      ]
     },
     "metadata": {
      "needs_background": "light"
     },
     "output_type": "display_data"
    }
   ],
   "source": [
    "perc = (df['target'].value_counts()/(df.shape[0]))*100\n",
    "print(\"Percentge distribution of class '1' & class '0':\\n\\n\",perc)\n",
    "perc.plot.bar();"
   ]
  },
  {
   "cell_type": "code",
   "execution_count": 8,
   "id": "b66577b1",
   "metadata": {},
   "outputs": [
    {
     "data": {
      "text/plain": [
       "binary         18\n",
       "ordinal        16\n",
       "categorical    15\n",
       "interval       10\n",
       "Name: level, dtype: int64"
      ]
     },
     "execution_count": 8,
     "metadata": {},
     "output_type": "execute_result"
    }
   ],
   "source": [
    "df1['level'].value_counts()"
   ]
  },
  {
   "cell_type": "markdown",
   "id": "1bad4fa5",
   "metadata": {},
   "source": [
    "# 1)3 important inferences from the data\n",
    "1)Data has 595212 rows and 59 features\n",
    "2)Data is higly imblaced\n",
    "3)variable types in data:\n",
    "    binary         18\n",
    "    ordinal        16\n",
    "    categorical    15\n",
    "    interval       10"
   ]
  },
  {
   "cell_type": "markdown",
   "id": "0d27db99",
   "metadata": {},
   "source": [
    "# 2) Is the data balanced?\n",
    "No, data is not balanced as shown in above bar plot."
   ]
  },
  {
   "cell_type": "code",
   "execution_count": 9,
   "id": "437f3130",
   "metadata": {},
   "outputs": [
    {
     "name": "stdout",
     "output_type": "stream",
     "text": [
      "categorical features count: 15\n"
     ]
    }
   ],
   "source": [
    "group_variable_type = df1.groupby('level')\n",
    "print(\"categorical features count:\",group_variable_type.get_group('categorical').shape[0])"
   ]
  },
  {
   "cell_type": "markdown",
   "id": "c7383d26",
   "metadata": {},
   "source": [
    "# 3)How many categorical features are there?\n",
    "15"
   ]
  },
  {
   "cell_type": "code",
   "execution_count": 10,
   "id": "2bd3559f",
   "metadata": {},
   "outputs": [
    {
     "name": "stdout",
     "output_type": "stream",
     "text": [
      "binary features count: 18\n"
     ]
    }
   ],
   "source": [
    "group_variable_type = df1.groupby('level')\n",
    "print(\"binary features count:\",group_variable_type.get_group('binary').shape[0])"
   ]
  },
  {
   "cell_type": "markdown",
   "id": "56b70098",
   "metadata": {},
   "source": [
    "# 4)How many binary features are there?\n",
    "18"
   ]
  },
  {
   "cell_type": "code",
   "execution_count": 11,
   "id": "141f3d0b",
   "metadata": {},
   "outputs": [
    {
     "name": "stdout",
     "output_type": "stream",
     "text": [
      "10\n"
     ]
    }
   ],
   "source": [
    "for variable in df1.variable:\n",
    "    IntervalVar = df1[df1.level=='interval']['variable']\n",
    "    CategoricalVar = df1[df1.level=='categorical']['variable']\n",
    "    BinaryVar = df1[df1.level=='binary']['variable']\n",
    "    OrdinalVar = df1[df1.level=='ordinal']['variable']\n",
    "print(len(IntervalVar))"
   ]
  },
  {
   "cell_type": "code",
   "execution_count": 13,
   "id": "7df3ec69",
   "metadata": {},
   "outputs": [
    {
     "data": {
      "text/plain": [
       "<AxesSubplot:>"
      ]
     },
     "execution_count": 13,
     "metadata": {},
     "output_type": "execute_result"
    },
    {
     "data": {
      "image/png": "[encoded data removed]",
      "text/plain": [
       "<Figure size 864x720 with 2 Axes>"
      ]
     },
     "metadata": {
      "needs_background": "light"
     },
     "output_type": "display_data"
    }
   ],
   "source": [
    "ind_col = [w for w in df.columns if 'ind' in w]\n",
    "fig, ax = plt.subplots(figsize=(12,10))\n",
    "sns.heatmap(df[ind_col].corr(),linewidths=.5, cmap=\"YlGnBu\",ax=ax, annot= True)"
   ]
  },
  {
   "cell_type": "code",
   "execution_count": 15,
   "id": "8aa5ec7e",
   "metadata": {},
   "outputs": [
    {
     "name": "stdout",
     "output_type": "stream",
     "text": [
      "                      0         0\n",
      "ps_ind_01      1.900378  1.983789\n",
      "ps_ind_02_cat  1.358943  0.664594\n",
      "ps_ind_03      4.423318  2.699902\n",
      "ps_ind_04_cat  0.416794  0.493311\n",
      "ps_ind_05_cat  0.405188  1.350642\n",
      "ps_ind_06_bin  0.393742  0.488579\n",
      "ps_ind_07_bin  0.257033  0.436998\n",
      "ps_ind_08_bin  0.163921  0.370205\n",
      "ps_ind_09_bin  0.185304  0.388544\n",
      "ps_ind_10_bin  0.000373  0.019309\n",
      "ps_ind_11_bin  0.001692  0.041097\n",
      "ps_ind_12_bin  0.009439  0.096693\n",
      "ps_ind_13_bin  0.000948  0.030768\n",
      "ps_ind_14      0.012451  0.127545\n",
      "ps_ind_15      7.299922  3.546042\n",
      "ps_ind_16_bin  0.660823  0.473430\n",
      "ps_ind_17_bin  0.121081  0.326222\n",
      "ps_ind_18_bin  0.153446  0.360417\n"
     ]
    }
   ],
   "source": [
    "mean=pd.DataFrame(df[ind_col].mean())\n",
    "std_dev=pd.DataFrame(df[ind_col].std())\n",
    "cent_df=pd.concat([mean, std_dev], axis=1)\n",
    "print(cent_df)"
   ]
  },
  {
   "cell_type": "code",
   "execution_count": 18,
   "id": "affd2fa9",
   "metadata": {},
   "outputs": [
    {
     "data": {
      "text/html": [
       "<div>\n",
       "<style scoped>\n",
       "    .dataframe tbody tr th:only-of-type {\n",
       "        vertical-align: middle;\n",
       "    }\n",
       "\n",
       "    .dataframe tbody tr th {\n",
       "        vertical-align: top;\n",
       "    }\n",
       "\n",
       "    .dataframe thead th {\n",
       "        text-align: right;\n",
       "    }\n",
       "</style>\n",
       "<table border=\"1\" class=\"dataframe\">\n",
       "  <thead>\n",
       "    <tr style=\"text-align: right;\">\n",
       "      <th></th>\n",
       "      <th>variable</th>\n",
       "      <th>role</th>\n",
       "      <th>level</th>\n",
       "      <th>keep</th>\n",
       "      <th>dtype</th>\n",
       "      <th>uvc</th>\n",
       "    </tr>\n",
       "  </thead>\n",
       "  <tbody>\n",
       "    <tr>\n",
       "      <th>0</th>\n",
       "      <td>id</td>\n",
       "      <td>id</td>\n",
       "      <td>categorical</td>\n",
       "      <td>True</td>\n",
       "      <td>int64</td>\n",
       "      <td>595212</td>\n",
       "    </tr>\n",
       "    <tr>\n",
       "      <th>1</th>\n",
       "      <td>target</td>\n",
       "      <td>target</td>\n",
       "      <td>binary</td>\n",
       "      <td>True</td>\n",
       "      <td>int64</td>\n",
       "      <td>2</td>\n",
       "    </tr>\n",
       "    <tr>\n",
       "      <th>2</th>\n",
       "      <td>ps_ind_01</td>\n",
       "      <td>input</td>\n",
       "      <td>ordinal</td>\n",
       "      <td>True</td>\n",
       "      <td>int64</td>\n",
       "      <td>8</td>\n",
       "    </tr>\n",
       "    <tr>\n",
       "      <th>3</th>\n",
       "      <td>ps_ind_02_cat</td>\n",
       "      <td>input</td>\n",
       "      <td>categorical</td>\n",
       "      <td>True</td>\n",
       "      <td>int64</td>\n",
       "      <td>5</td>\n",
       "    </tr>\n",
       "    <tr>\n",
       "      <th>4</th>\n",
       "      <td>ps_ind_03</td>\n",
       "      <td>input</td>\n",
       "      <td>ordinal</td>\n",
       "      <td>True</td>\n",
       "      <td>int64</td>\n",
       "      <td>12</td>\n",
       "    </tr>\n",
       "    <tr>\n",
       "      <th>5</th>\n",
       "      <td>ps_ind_04_cat</td>\n",
       "      <td>input</td>\n",
       "      <td>categorical</td>\n",
       "      <td>True</td>\n",
       "      <td>int64</td>\n",
       "      <td>3</td>\n",
       "    </tr>\n",
       "    <tr>\n",
       "      <th>6</th>\n",
       "      <td>ps_ind_05_cat</td>\n",
       "      <td>input</td>\n",
       "      <td>categorical</td>\n",
       "      <td>True</td>\n",
       "      <td>int64</td>\n",
       "      <td>8</td>\n",
       "    </tr>\n",
       "    <tr>\n",
       "      <th>7</th>\n",
       "      <td>ps_ind_06_bin</td>\n",
       "      <td>input</td>\n",
       "      <td>binary</td>\n",
       "      <td>True</td>\n",
       "      <td>int64</td>\n",
       "      <td>2</td>\n",
       "    </tr>\n",
       "    <tr>\n",
       "      <th>8</th>\n",
       "      <td>ps_ind_07_bin</td>\n",
       "      <td>input</td>\n",
       "      <td>binary</td>\n",
       "      <td>True</td>\n",
       "      <td>int64</td>\n",
       "      <td>2</td>\n",
       "    </tr>\n",
       "    <tr>\n",
       "      <th>9</th>\n",
       "      <td>ps_ind_08_bin</td>\n",
       "      <td>input</td>\n",
       "      <td>binary</td>\n",
       "      <td>True</td>\n",
       "      <td>int64</td>\n",
       "      <td>2</td>\n",
       "    </tr>\n",
       "    <tr>\n",
       "      <th>10</th>\n",
       "      <td>ps_ind_09_bin</td>\n",
       "      <td>input</td>\n",
       "      <td>binary</td>\n",
       "      <td>True</td>\n",
       "      <td>int64</td>\n",
       "      <td>2</td>\n",
       "    </tr>\n",
       "    <tr>\n",
       "      <th>11</th>\n",
       "      <td>ps_ind_10_bin</td>\n",
       "      <td>input</td>\n",
       "      <td>binary</td>\n",
       "      <td>True</td>\n",
       "      <td>int64</td>\n",
       "      <td>2</td>\n",
       "    </tr>\n",
       "    <tr>\n",
       "      <th>12</th>\n",
       "      <td>ps_ind_11_bin</td>\n",
       "      <td>input</td>\n",
       "      <td>binary</td>\n",
       "      <td>True</td>\n",
       "      <td>int64</td>\n",
       "      <td>2</td>\n",
       "    </tr>\n",
       "    <tr>\n",
       "      <th>13</th>\n",
       "      <td>ps_ind_12_bin</td>\n",
       "      <td>input</td>\n",
       "      <td>binary</td>\n",
       "      <td>True</td>\n",
       "      <td>int64</td>\n",
       "      <td>2</td>\n",
       "    </tr>\n",
       "    <tr>\n",
       "      <th>14</th>\n",
       "      <td>ps_ind_13_bin</td>\n",
       "      <td>input</td>\n",
       "      <td>binary</td>\n",
       "      <td>True</td>\n",
       "      <td>int64</td>\n",
       "      <td>2</td>\n",
       "    </tr>\n",
       "    <tr>\n",
       "      <th>15</th>\n",
       "      <td>ps_ind_14</td>\n",
       "      <td>input</td>\n",
       "      <td>ordinal</td>\n",
       "      <td>True</td>\n",
       "      <td>int64</td>\n",
       "      <td>5</td>\n",
       "    </tr>\n",
       "    <tr>\n",
       "      <th>16</th>\n",
       "      <td>ps_ind_15</td>\n",
       "      <td>input</td>\n",
       "      <td>ordinal</td>\n",
       "      <td>True</td>\n",
       "      <td>int64</td>\n",
       "      <td>14</td>\n",
       "    </tr>\n",
       "    <tr>\n",
       "      <th>17</th>\n",
       "      <td>ps_ind_16_bin</td>\n",
       "      <td>input</td>\n",
       "      <td>binary</td>\n",
       "      <td>True</td>\n",
       "      <td>int64</td>\n",
       "      <td>2</td>\n",
       "    </tr>\n",
       "    <tr>\n",
       "      <th>18</th>\n",
       "      <td>ps_ind_17_bin</td>\n",
       "      <td>input</td>\n",
       "      <td>binary</td>\n",
       "      <td>True</td>\n",
       "      <td>int64</td>\n",
       "      <td>2</td>\n",
       "    </tr>\n",
       "    <tr>\n",
       "      <th>19</th>\n",
       "      <td>ps_ind_18_bin</td>\n",
       "      <td>input</td>\n",
       "      <td>binary</td>\n",
       "      <td>True</td>\n",
       "      <td>int64</td>\n",
       "      <td>2</td>\n",
       "    </tr>\n",
       "    <tr>\n",
       "      <th>20</th>\n",
       "      <td>ps_reg_01</td>\n",
       "      <td>input</td>\n",
       "      <td>interval</td>\n",
       "      <td>True</td>\n",
       "      <td>float64</td>\n",
       "      <td>10</td>\n",
       "    </tr>\n",
       "    <tr>\n",
       "      <th>21</th>\n",
       "      <td>ps_reg_02</td>\n",
       "      <td>input</td>\n",
       "      <td>interval</td>\n",
       "      <td>True</td>\n",
       "      <td>float64</td>\n",
       "      <td>19</td>\n",
       "    </tr>\n",
       "    <tr>\n",
       "      <th>22</th>\n",
       "      <td>ps_reg_03</td>\n",
       "      <td>input</td>\n",
       "      <td>interval</td>\n",
       "      <td>True</td>\n",
       "      <td>float64</td>\n",
       "      <td>5013</td>\n",
       "    </tr>\n",
       "    <tr>\n",
       "      <th>23</th>\n",
       "      <td>ps_car_01_cat</td>\n",
       "      <td>input</td>\n",
       "      <td>categorical</td>\n",
       "      <td>True</td>\n",
       "      <td>int64</td>\n",
       "      <td>13</td>\n",
       "    </tr>\n",
       "    <tr>\n",
       "      <th>24</th>\n",
       "      <td>ps_car_02_cat</td>\n",
       "      <td>input</td>\n",
       "      <td>categorical</td>\n",
       "      <td>True</td>\n",
       "      <td>int64</td>\n",
       "      <td>2</td>\n",
       "    </tr>\n",
       "    <tr>\n",
       "      <th>25</th>\n",
       "      <td>ps_car_03_cat</td>\n",
       "      <td>input</td>\n",
       "      <td>categorical</td>\n",
       "      <td>True</td>\n",
       "      <td>int64</td>\n",
       "      <td>3</td>\n",
       "    </tr>\n",
       "    <tr>\n",
       "      <th>26</th>\n",
       "      <td>ps_car_04_cat</td>\n",
       "      <td>input</td>\n",
       "      <td>categorical</td>\n",
       "      <td>True</td>\n",
       "      <td>int64</td>\n",
       "      <td>10</td>\n",
       "    </tr>\n",
       "    <tr>\n",
       "      <th>27</th>\n",
       "      <td>ps_car_05_cat</td>\n",
       "      <td>input</td>\n",
       "      <td>categorical</td>\n",
       "      <td>True</td>\n",
       "      <td>int64</td>\n",
       "      <td>3</td>\n",
       "    </tr>\n",
       "    <tr>\n",
       "      <th>28</th>\n",
       "      <td>ps_car_06_cat</td>\n",
       "      <td>input</td>\n",
       "      <td>categorical</td>\n",
       "      <td>True</td>\n",
       "      <td>int64</td>\n",
       "      <td>18</td>\n",
       "    </tr>\n",
       "    <tr>\n",
       "      <th>29</th>\n",
       "      <td>ps_car_07_cat</td>\n",
       "      <td>input</td>\n",
       "      <td>categorical</td>\n",
       "      <td>True</td>\n",
       "      <td>int64</td>\n",
       "      <td>3</td>\n",
       "    </tr>\n",
       "    <tr>\n",
       "      <th>30</th>\n",
       "      <td>ps_car_08_cat</td>\n",
       "      <td>input</td>\n",
       "      <td>categorical</td>\n",
       "      <td>True</td>\n",
       "      <td>int64</td>\n",
       "      <td>2</td>\n",
       "    </tr>\n",
       "    <tr>\n",
       "      <th>31</th>\n",
       "      <td>ps_car_09_cat</td>\n",
       "      <td>input</td>\n",
       "      <td>categorical</td>\n",
       "      <td>True</td>\n",
       "      <td>int64</td>\n",
       "      <td>6</td>\n",
       "    </tr>\n",
       "    <tr>\n",
       "      <th>32</th>\n",
       "      <td>ps_car_10_cat</td>\n",
       "      <td>input</td>\n",
       "      <td>categorical</td>\n",
       "      <td>True</td>\n",
       "      <td>int64</td>\n",
       "      <td>3</td>\n",
       "    </tr>\n",
       "    <tr>\n",
       "      <th>33</th>\n",
       "      <td>ps_car_11_cat</td>\n",
       "      <td>input</td>\n",
       "      <td>categorical</td>\n",
       "      <td>True</td>\n",
       "      <td>int64</td>\n",
       "      <td>104</td>\n",
       "    </tr>\n",
       "    <tr>\n",
       "      <th>34</th>\n",
       "      <td>ps_car_11</td>\n",
       "      <td>input</td>\n",
       "      <td>ordinal</td>\n",
       "      <td>True</td>\n",
       "      <td>int64</td>\n",
       "      <td>5</td>\n",
       "    </tr>\n",
       "    <tr>\n",
       "      <th>35</th>\n",
       "      <td>ps_car_12</td>\n",
       "      <td>input</td>\n",
       "      <td>interval</td>\n",
       "      <td>True</td>\n",
       "      <td>float64</td>\n",
       "      <td>184</td>\n",
       "    </tr>\n",
       "    <tr>\n",
       "      <th>36</th>\n",
       "      <td>ps_car_13</td>\n",
       "      <td>input</td>\n",
       "      <td>interval</td>\n",
       "      <td>True</td>\n",
       "      <td>float64</td>\n",
       "      <td>70482</td>\n",
       "    </tr>\n",
       "    <tr>\n",
       "      <th>37</th>\n",
       "      <td>ps_car_14</td>\n",
       "      <td>input</td>\n",
       "      <td>interval</td>\n",
       "      <td>True</td>\n",
       "      <td>float64</td>\n",
       "      <td>850</td>\n",
       "    </tr>\n",
       "    <tr>\n",
       "      <th>38</th>\n",
       "      <td>ps_car_15</td>\n",
       "      <td>input</td>\n",
       "      <td>interval</td>\n",
       "      <td>True</td>\n",
       "      <td>float64</td>\n",
       "      <td>15</td>\n",
       "    </tr>\n",
       "    <tr>\n",
       "      <th>39</th>\n",
       "      <td>ps_calc_01</td>\n",
       "      <td>input</td>\n",
       "      <td>interval</td>\n",
       "      <td>True</td>\n",
       "      <td>float64</td>\n",
       "      <td>10</td>\n",
       "    </tr>\n",
       "    <tr>\n",
       "      <th>40</th>\n",
       "      <td>ps_calc_02</td>\n",
       "      <td>input</td>\n",
       "      <td>interval</td>\n",
       "      <td>True</td>\n",
       "      <td>float64</td>\n",
       "      <td>10</td>\n",
       "    </tr>\n",
       "    <tr>\n",
       "      <th>41</th>\n",
       "      <td>ps_calc_03</td>\n",
       "      <td>input</td>\n",
       "      <td>interval</td>\n",
       "      <td>True</td>\n",
       "      <td>float64</td>\n",
       "      <td>10</td>\n",
       "    </tr>\n",
       "    <tr>\n",
       "      <th>42</th>\n",
       "      <td>ps_calc_04</td>\n",
       "      <td>input</td>\n",
       "      <td>ordinal</td>\n",
       "      <td>True</td>\n",
       "      <td>int64</td>\n",
       "      <td>6</td>\n",
       "    </tr>\n",
       "    <tr>\n",
       "      <th>43</th>\n",
       "      <td>ps_calc_05</td>\n",
       "      <td>input</td>\n",
       "      <td>ordinal</td>\n",
       "      <td>True</td>\n",
       "      <td>int64</td>\n",
       "      <td>7</td>\n",
       "    </tr>\n",
       "    <tr>\n",
       "      <th>44</th>\n",
       "      <td>ps_calc_06</td>\n",
       "      <td>input</td>\n",
       "      <td>ordinal</td>\n",
       "      <td>True</td>\n",
       "      <td>int64</td>\n",
       "      <td>11</td>\n",
       "    </tr>\n",
       "    <tr>\n",
       "      <th>45</th>\n",
       "      <td>ps_calc_07</td>\n",
       "      <td>input</td>\n",
       "      <td>ordinal</td>\n",
       "      <td>True</td>\n",
       "      <td>int64</td>\n",
       "      <td>10</td>\n",
       "    </tr>\n",
       "    <tr>\n",
       "      <th>46</th>\n",
       "      <td>ps_calc_08</td>\n",
       "      <td>input</td>\n",
       "      <td>ordinal</td>\n",
       "      <td>True</td>\n",
       "      <td>int64</td>\n",
       "      <td>11</td>\n",
       "    </tr>\n",
       "    <tr>\n",
       "      <th>47</th>\n",
       "      <td>ps_calc_09</td>\n",
       "      <td>input</td>\n",
       "      <td>ordinal</td>\n",
       "      <td>True</td>\n",
       "      <td>int64</td>\n",
       "      <td>8</td>\n",
       "    </tr>\n",
       "    <tr>\n",
       "      <th>48</th>\n",
       "      <td>ps_calc_10</td>\n",
       "      <td>input</td>\n",
       "      <td>ordinal</td>\n",
       "      <td>True</td>\n",
       "      <td>int64</td>\n",
       "      <td>26</td>\n",
       "    </tr>\n",
       "    <tr>\n",
       "      <th>49</th>\n",
       "      <td>ps_calc_11</td>\n",
       "      <td>input</td>\n",
       "      <td>ordinal</td>\n",
       "      <td>True</td>\n",
       "      <td>int64</td>\n",
       "      <td>20</td>\n",
       "    </tr>\n",
       "    <tr>\n",
       "      <th>50</th>\n",
       "      <td>ps_calc_12</td>\n",
       "      <td>input</td>\n",
       "      <td>ordinal</td>\n",
       "      <td>True</td>\n",
       "      <td>int64</td>\n",
       "      <td>11</td>\n",
       "    </tr>\n",
       "    <tr>\n",
       "      <th>51</th>\n",
       "      <td>ps_calc_13</td>\n",
       "      <td>input</td>\n",
       "      <td>ordinal</td>\n",
       "      <td>True</td>\n",
       "      <td>int64</td>\n",
       "      <td>14</td>\n",
       "    </tr>\n",
       "    <tr>\n",
       "      <th>52</th>\n",
       "      <td>ps_calc_14</td>\n",
       "      <td>input</td>\n",
       "      <td>ordinal</td>\n",
       "      <td>True</td>\n",
       "      <td>int64</td>\n",
       "      <td>24</td>\n",
       "    </tr>\n",
       "    <tr>\n",
       "      <th>53</th>\n",
       "      <td>ps_calc_15_bin</td>\n",
       "      <td>input</td>\n",
       "      <td>binary</td>\n",
       "      <td>True</td>\n",
       "      <td>int64</td>\n",
       "      <td>2</td>\n",
       "    </tr>\n",
       "    <tr>\n",
       "      <th>54</th>\n",
       "      <td>ps_calc_16_bin</td>\n",
       "      <td>input</td>\n",
       "      <td>binary</td>\n",
       "      <td>True</td>\n",
       "      <td>int64</td>\n",
       "      <td>2</td>\n",
       "    </tr>\n",
       "    <tr>\n",
       "      <th>55</th>\n",
       "      <td>ps_calc_17_bin</td>\n",
       "      <td>input</td>\n",
       "      <td>binary</td>\n",
       "      <td>True</td>\n",
       "      <td>int64</td>\n",
       "      <td>2</td>\n",
       "    </tr>\n",
       "    <tr>\n",
       "      <th>56</th>\n",
       "      <td>ps_calc_18_bin</td>\n",
       "      <td>input</td>\n",
       "      <td>binary</td>\n",
       "      <td>True</td>\n",
       "      <td>int64</td>\n",
       "      <td>2</td>\n",
       "    </tr>\n",
       "    <tr>\n",
       "      <th>57</th>\n",
       "      <td>ps_calc_19_bin</td>\n",
       "      <td>input</td>\n",
       "      <td>binary</td>\n",
       "      <td>True</td>\n",
       "      <td>int64</td>\n",
       "      <td>2</td>\n",
       "    </tr>\n",
       "    <tr>\n",
       "      <th>58</th>\n",
       "      <td>ps_calc_20_bin</td>\n",
       "      <td>input</td>\n",
       "      <td>binary</td>\n",
       "      <td>True</td>\n",
       "      <td>int64</td>\n",
       "      <td>2</td>\n",
       "    </tr>\n",
       "  </tbody>\n",
       "</table>\n",
       "</div>"
      ],
      "text/plain": [
       "          variable    role        level  keep    dtype     uvc\n",
       "0               id      id  categorical  True    int64  595212\n",
       "1           target  target       binary  True    int64       2\n",
       "2        ps_ind_01   input      ordinal  True    int64       8\n",
       "3    ps_ind_02_cat   input  categorical  True    int64       5\n",
       "4        ps_ind_03   input      ordinal  True    int64      12\n",
       "5    ps_ind_04_cat   input  categorical  True    int64       3\n",
       "6    ps_ind_05_cat   input  categorical  True    int64       8\n",
       "7    ps_ind_06_bin   input       binary  True    int64       2\n",
       "8    ps_ind_07_bin   input       binary  True    int64       2\n",
       "9    ps_ind_08_bin   input       binary  True    int64       2\n",
       "10   ps_ind_09_bin   input       binary  True    int64       2\n",
       "11   ps_ind_10_bin   input       binary  True    int64       2\n",
       "12   ps_ind_11_bin   input       binary  True    int64       2\n",
       "13   ps_ind_12_bin   input       binary  True    int64       2\n",
       "14   ps_ind_13_bin   input       binary  True    int64       2\n",
       "15       ps_ind_14   input      ordinal  True    int64       5\n",
       "16       ps_ind_15   input      ordinal  True    int64      14\n",
       "17   ps_ind_16_bin   input       binary  True    int64       2\n",
       "18   ps_ind_17_bin   input       binary  True    int64       2\n",
       "19   ps_ind_18_bin   input       binary  True    int64       2\n",
       "20       ps_reg_01   input     interval  True  float64      10\n",
       "21       ps_reg_02   input     interval  True  float64      19\n",
       "22       ps_reg_03   input     interval  True  float64    5013\n",
       "23   ps_car_01_cat   input  categorical  True    int64      13\n",
       "24   ps_car_02_cat   input  categorical  True    int64       2\n",
       "25   ps_car_03_cat   input  categorical  True    int64       3\n",
       "26   ps_car_04_cat   input  categorical  True    int64      10\n",
       "27   ps_car_05_cat   input  categorical  True    int64       3\n",
       "28   ps_car_06_cat   input  categorical  True    int64      18\n",
       "29   ps_car_07_cat   input  categorical  True    int64       3\n",
       "30   ps_car_08_cat   input  categorical  True    int64       2\n",
       "31   ps_car_09_cat   input  categorical  True    int64       6\n",
       "32   ps_car_10_cat   input  categorical  True    int64       3\n",
       "33   ps_car_11_cat   input  categorical  True    int64     104\n",
       "34       ps_car_11   input      ordinal  True    int64       5\n",
       "35       ps_car_12   input     interval  True  float64     184\n",
       "36       ps_car_13   input     interval  True  float64   70482\n",
       "37       ps_car_14   input     interval  True  float64     850\n",
       "38       ps_car_15   input     interval  True  float64      15\n",
       "39      ps_calc_01   input     interval  True  float64      10\n",
       "40      ps_calc_02   input     interval  True  float64      10\n",
       "41      ps_calc_03   input     interval  True  float64      10\n",
       "42      ps_calc_04   input      ordinal  True    int64       6\n",
       "43      ps_calc_05   input      ordinal  True    int64       7\n",
       "44      ps_calc_06   input      ordinal  True    int64      11\n",
       "45      ps_calc_07   input      ordinal  True    int64      10\n",
       "46      ps_calc_08   input      ordinal  True    int64      11\n",
       "47      ps_calc_09   input      ordinal  True    int64       8\n",
       "48      ps_calc_10   input      ordinal  True    int64      26\n",
       "49      ps_calc_11   input      ordinal  True    int64      20\n",
       "50      ps_calc_12   input      ordinal  True    int64      11\n",
       "51      ps_calc_13   input      ordinal  True    int64      14\n",
       "52      ps_calc_14   input      ordinal  True    int64      24\n",
       "53  ps_calc_15_bin   input       binary  True    int64       2\n",
       "54  ps_calc_16_bin   input       binary  True    int64       2\n",
       "55  ps_calc_17_bin   input       binary  True    int64       2\n",
       "56  ps_calc_18_bin   input       binary  True    int64       2\n",
       "57  ps_calc_19_bin   input       binary  True    int64       2\n",
       "58  ps_calc_20_bin   input       binary  True    int64       2"
      ]
     },
     "execution_count": 18,
     "metadata": {},
     "output_type": "execute_result"
    }
   ],
   "source": [
    "df1['uvc'] = Unique_Values_Count.reset_index()['uvc']\n",
    "df1"
   ]
  },
  {
   "cell_type": "markdown",
   "id": "be1d617d",
   "metadata": {},
   "source": [
    "# 5)Write inferences from data on interval variables.\n",
    "ps_ind_15 has the highest mean and standard deviation\n",
    "Looking at above plot only 3 features are correlated. ps_ind_12_bin is having a high correlation with ps_ind_14 with 0.89."
   ]
  },
  {
   "cell_type": "code",
   "execution_count": 19,
   "id": "edd16ced",
   "metadata": {},
   "outputs": [
    {
     "data": {
      "image/png": "[encoded data removed]",
      "text/plain": [
       "<Figure size 1152x576 with 1 Axes>"
      ]
     },
     "metadata": {
      "needs_background": "light"
     },
     "output_type": "display_data"
    }
   ],
   "source": [
    "d ={}\n",
    "for i in df[OrdinalVar].columns:\n",
    "    d[i] = df[OrdinalVar][i].nunique()\n",
    "\n",
    "pd.DataFrame(d,index=['uvc']).T.plot.bar(figsize=(16,8));"
   ]
  },
  {
   "cell_type": "markdown",
   "id": "ba0cdd7a",
   "metadata": {},
   "source": [
    "# 6) Write inferences from data on ordinal variables. \n",
    "Very few ordinal variables are correlated to each other\n",
    "Looking at above graph only 2 features have unqiue values more than 20"
   ]
  },
  {
   "cell_type": "code",
   "execution_count": 20,
   "id": "c7389c34",
   "metadata": {},
   "outputs": [
    {
     "data": {
      "text/plain": [
       "<AxesSubplot:>"
      ]
     },
     "execution_count": 20,
     "metadata": {},
     "output_type": "execute_result"
    },
    {
     "data": {
      "image/png": "[encoded data removed]",
      "text/plain": [
       "<Figure size 1440x720 with 2 Axes>"
      ]
     },
     "metadata": {
      "needs_background": "light"
     },
     "output_type": "display_data"
    }
   ],
   "source": [
    "fig, ax = plt.subplots(figsize=(20,10))\n",
    "sns.heatmap(df.loc[:, [\"target\", \"ps_ind_06_bin\",\"ps_ind_07_bin\", \"ps_ind_08_bin\", \"ps_ind_09_bin\",\"ps_ind_10_bin\"] ].corr(), annot=True)"
   ]
  },
  {
   "cell_type": "markdown",
   "id": "a22c0703",
   "metadata": {},
   "source": [
    "# 7. Write inferences from data on binary variables. doubt\n",
    "variables are very less correlated from above plot "
   ]
  },
  {
   "cell_type": "code",
   "execution_count": 21,
   "id": "f939f562",
   "metadata": {},
   "outputs": [
    {
     "name": "stdout",
     "output_type": "stream",
     "text": [
      "Percentge distribution of class '1' & class '0':\n",
      "\n",
      " 0    96.355248\n",
      "1     3.644752\n",
      "Name: target, dtype: float64\n"
     ]
    },
    {
     "data": {
      "image/png": "[encoded data removed]",
      "text/plain": [
       "<Figure size 432x288 with 1 Axes>"
      ]
     },
     "metadata": {
      "needs_background": "light"
     },
     "output_type": "display_data"
    }
   ],
   "source": [
    "perc = (df['target'].value_counts()/(df.shape[0]))*100\n",
    "print(\"Percentge distribution of class '1' & class '0':\\n\\n\",perc)\n",
    "perc.plot.bar();"
   ]
  },
  {
   "cell_type": "markdown",
   "id": "2a2033be",
   "metadata": {},
   "source": [
    "# 8)Check if the target data is proportionate or not.\n",
    "Data is imbalanced."
   ]
  },
  {
   "cell_type": "markdown",
   "id": "e41132ae",
   "metadata": {},
   "source": [
    "# 9)What should be the preferred way in this case to balance the data? \n",
    "The most popular solution to an imbalanced classification problem is to change the composition of the training dataset.Techniques designed to change the class distribution in the training dataset are generally referred to as sampling methods or resampling methods as we are sampling an existing data sample."
   ]
  },
  {
   "cell_type": "code",
   "execution_count": 22,
   "id": "c07733b4",
   "metadata": {},
   "outputs": [
    {
     "name": "stdout",
     "output_type": "stream",
     "text": [
      "Size of data, after achieving a balance of 12%:  642340\n"
     ]
    }
   ],
   "source": [
    "from sklearn.utils import resample\n",
    "df_mino= df[df['target']==1]\n",
    "df_majo= df[df['target']==0]\n",
    "df_mino_upsampled = resample(df_mino,replace=True,n_samples=int(len(df_majo)*0.12), random_state = 42)\n",
    "\n",
    "print(\"Size of data, after achieving a balance of 12%: \", df_mino_upsampled.shape[0] + df_majo.shape[0])"
   ]
  },
  {
   "cell_type": "markdown",
   "id": "94cd2659",
   "metadata": {},
   "source": [
    "# 10)How many training records are there after achieving a balance of 12%?\n",
    "642340"
   ]
  },
  {
   "cell_type": "code",
   "execution_count": 23,
   "id": "e9ef28b4",
   "metadata": {},
   "outputs": [
    {
     "name": "stdout",
     "output_type": "stream",
     "text": [
      "Class compostion after resampling:\n",
      "0    573518\n",
      "1    573518\n",
      "Name: target, dtype: int64\n"
     ]
    },
    {
     "data": {
      "image/png": "[encoded data removed]",
      "text/plain": [
       "<Figure size 432x288 with 1 Axes>"
      ]
     },
     "metadata": {
      "needs_background": "light"
     },
     "output_type": "display_data"
    }
   ],
   "source": [
    "df_mino_upsampled = resample(df_mino,replace=True,n_samples=len(df_majo), random_state = 42)\n",
    "df = pd.concat([df_majo,df_mino_upsampled])\n",
    "print(\"Class compostion after resampling:\")\n",
    "print(df['target'].value_counts())\n",
    "df['target'].value_counts().plot.bar();"
   ]
  },
  {
   "cell_type": "code",
   "execution_count": 9,
   "id": "87a174ce",
   "metadata": {},
   "outputs": [
    {
     "name": "stdout",
     "output_type": "stream",
     "text": [
      "Variable ps_ind_02_cat has 1234 missing with 0.107582 percentage\n",
      "Variable ps_ind_04_cat has 924 missing with 0.080555 percentage\n",
      "Variable ps_ind_05_cat has 18188 missing with 1.585652 percentage\n",
      "Variable ps_reg_03 has 185917 missing with 16.208471 percentage\n",
      "Variable ps_car_01_cat has 975 missing with 0.085002 percentage\n",
      "Variable ps_car_03_cat has 753240 missing with 65.668384 percentage\n",
      "Variable ps_car_05_cat has 481906 missing with 42.013154 percentage\n",
      "Variable ps_car_07_cat has 34318 missing with 2.991885 percentage\n",
      "Variable ps_car_09_cat has 1843 missing with 0.160675 percentage\n",
      "Variable ps_car_11 has 5 missing with 0.000436 percentage\n",
      "Variable ps_car_12 has 1 missing with 0.000087 percentage\n",
      "Variable ps_car_14 has 86344 missing with 7.527575 percentage\n",
      "\n",
      "In total, there are 12 variables with missing values\n"
     ]
    }
   ],
   "source": [
    "missing = []\n",
    "\n",
    "for columns in df.columns:\n",
    "    missing_count = df[df[columns] == -1][columns].count()\n",
    "    if missing_count > 0:\n",
    "        missing.append(columns)\n",
    "        missings_perc = missing_count*100/df.shape[0]\n",
    "        \n",
    "        print('Variable %s has %i missing with %f percentage'%(columns, missing_count, missings_perc))\n",
    "        \n",
    "print('\\nIn total, there are {} variables with missing values'.format(len(missing)))"
   ]
  },
  {
   "cell_type": "markdown",
   "id": "b2f96f58",
   "metadata": {},
   "source": [
    "# 11) Which are the top two features in terms of missing values?\n",
    "ps_car_03_cat & ps_car_05_cat are the top 2 features in missing values\n",
    "\n",
    "# 12) In total, how many features have missing values?\n",
    "there are 12 variables with missing values"
   ]
  },
  {
   "cell_type": "code",
   "execution_count": 7,
   "id": "e2cc1328",
   "metadata": {},
   "outputs": [
    {
     "name": "stdout",
     "output_type": "stream",
     "text": [
      "(595212, 57)\n"
     ]
    }
   ],
   "source": [
    "df2=df.drop(['ps_car_03_cat', 'ps_car_05_cat'], axis = 1)\n",
    "print(df2.shape)"
   ]
  },
  {
   "cell_type": "code",
   "execution_count": 8,
   "id": "5bcc1075",
   "metadata": {},
   "outputs": [
    {
     "data": {
      "image/png": "[encoded data removed]",
      "text/plain": [
       "<Figure size 864x720 with 2 Axes>"
      ]
     },
     "metadata": {
      "needs_background": "light"
     },
     "output_type": "display_data"
    }
   ],
   "source": [
    "temp = df[ind_col].corr()\n",
    "temp = temp[(temp>=0.5) | (temp<=-0.5)].fillna(0)\n",
    "fig, ax = plt.subplots(figsize=(12,10))\n",
    "sns.heatmap(temp,linewidths=.5, cmap=\"YlGnBu\",ax=ax)\n",
    "plt.show()"
   ]
  },
  {
   "cell_type": "markdown",
   "id": "faa51e18",
   "metadata": {},
   "source": [
    "# 14. Which interval variables have strong correlation?\n",
    "interval Variable with high correlation(abs value more than 0.5)\n",
    "\n",
    "ps_reg_03 --> ps_reg_03 & ps_reg_03\n",
    "ps_reg_13 --> ps_reg_12"
   ]
  },
  {
   "cell_type": "code",
   "execution_count": 25,
   "id": "e60119b1",
   "metadata": {},
   "outputs": [
    {
     "data": {
      "image/png": "[encoded data removed]",
      "text/plain": [
       "<Figure size 720x720 with 2 Axes>"
      ]
     },
     "metadata": {
      "needs_background": "light"
     },
     "output_type": "display_data"
    }
   ],
   "source": [
    "temp = df[OrdinalVar].corr()\n",
    "temp = temp[(temp>=0.3) | (temp<=-0.3)].fillna(0)\n",
    "fig, ax = plt.subplots(figsize=(10,10))\n",
    "sns.heatmap(temp,linewidths=.3, cmap=\"YlGnBu\",ax=ax)\n",
    "plt.show()"
   ]
  },
  {
   "cell_type": "markdown",
   "id": "964aaf18",
   "metadata": {},
   "source": [
    "# 15. What's the level of correlation among ordinal features?\n",
    "ordinal Variable with high correlation(abs value more than 0.5)\n",
    "\n",
    "ps_car_03_cat --> ps_car_05_cat\n",
    "ps_car_05_cat --> ps_car_09_cat"
   ]
  },
  {
   "cell_type": "markdown",
   "id": "a1f6ad67",
   "metadata": {},
   "source": [
    "# 16. Implement Hot Encoding for categorical features"
   ]
  },
  {
   "cell_type": "code",
   "execution_count": 10,
   "id": "15001cd4",
   "metadata": {},
   "outputs": [
    {
     "name": "stdout",
     "output_type": "stream",
     "text": [
      "             id  target  ps_ind_01  ps_ind_03  ps_ind_06_bin  ps_ind_07_bin  \\\n",
      "0             7       0          2          5              0              1   \n",
      "1             9       0          1          7              0              0   \n",
      "2            13       0          5          9              0              0   \n",
      "3            16       0          0          2              1              0   \n",
      "4            17       0          0          0              1              0   \n",
      "...         ...     ...        ...        ...            ...            ...   \n",
      "595207  1488013       0          3         10              0              0   \n",
      "595208  1488016       0          5          3              0              0   \n",
      "595209  1488017       0          1         10              1              0   \n",
      "595210  1488021       0          5          3              0              0   \n",
      "595211  1488027       0          0          8              1              0   \n",
      "\n",
      "        ps_ind_08_bin  ps_ind_09_bin  ps_ind_10_bin  ps_ind_11_bin  ...  \\\n",
      "0                   0              0              0              0  ...   \n",
      "1                   1              0              0              0  ...   \n",
      "2                   1              0              0              0  ...   \n",
      "3                   0              0              0              0  ...   \n",
      "4                   0              0              0              0  ...   \n",
      "...               ...            ...            ...            ...  ...   \n",
      "595207              0              1              0              0  ...   \n",
      "595208              0              1              0              0  ...   \n",
      "595209              0              0              0              0  ...   \n",
      "595210              1              0              0              0  ...   \n",
      "595211              0              0              0              0  ...   \n",
      "\n",
      "        ps_car_11_cat_95  ps_car_11_cat_96  ps_car_11_cat_97  \\\n",
      "0                      0                 0                 0   \n",
      "1                      0                 0                 0   \n",
      "2                      0                 0                 0   \n",
      "3                      0                 0                 0   \n",
      "4                      0                 0                 0   \n",
      "...                  ...               ...               ...   \n",
      "595207                 0                 0                 0   \n",
      "595208                 0                 0                 0   \n",
      "595209                 0                 0                 0   \n",
      "595210                 0                 0                 0   \n",
      "595211                 0                 0                 0   \n",
      "\n",
      "        ps_car_11_cat_98  ps_car_11_cat_99  ps_car_11_cat_100  \\\n",
      "0                      0                 0                  0   \n",
      "1                      0                 0                  0   \n",
      "2                      0                 0                  0   \n",
      "3                      0                 0                  0   \n",
      "4                      0                 0                  0   \n",
      "...                  ...               ...                ...   \n",
      "595207                 0                 0                  0   \n",
      "595208                 0                 0                  0   \n",
      "595209                 0                 0                  0   \n",
      "595210                 0                 0                  0   \n",
      "595211                 0                 0                  0   \n",
      "\n",
      "        ps_car_11_cat_101  ps_car_11_cat_102  ps_car_11_cat_103  \\\n",
      "0                       0                  0                  0   \n",
      "1                       0                  0                  0   \n",
      "2                       0                  0                  0   \n",
      "3                       0                  0                  0   \n",
      "4                       0                  0                  0   \n",
      "...                   ...                ...                ...   \n",
      "595207                  0                  0                  0   \n",
      "595208                  0                  0                  0   \n",
      "595209                  0                  0                  0   \n",
      "595210                  1                  0                  0   \n",
      "595211                  0                  0                  0   \n",
      "\n",
      "        ps_car_11_cat_104  \n",
      "0                       0  \n",
      "1                       0  \n",
      "2                       0  \n",
      "3                       1  \n",
      "4                       0  \n",
      "...                   ...  \n",
      "595207                  0  \n",
      "595208                  0  \n",
      "595209                  0  \n",
      "595210                  0  \n",
      "595211                  0  \n",
      "\n",
      "[595212 rows x 228 columns]\n"
     ]
    }
   ],
   "source": [
    "one_hot_encoded_data = pd.get_dummies(df, columns = ['ps_ind_02_cat', 'ps_ind_04_cat', 'ps_ind_05_cat', 'ps_car_01_cat', 'ps_car_02_cat', 'ps_car_03_cat', 'ps_car_04_cat', 'ps_car_05_cat', 'ps_car_06_cat', 'ps_car_07_cat', 'ps_car_08_cat', 'ps_car_09_cat', 'ps_car_10_cat', 'ps_car_11_cat'])\n",
    "print(one_hot_encoded_data)"
   ]
  },
  {
   "cell_type": "markdown",
   "id": "75c6d62f",
   "metadata": {},
   "source": [
    "# 17. In nominal and interval features, which features are suitable for StandardScaler?\n",
    "Nominal featues are not suitable for StandardScaler\n",
    "\n",
    "We can apply StandardScaler in interval features"
   ]
  },
  {
   "cell_type": "markdown",
   "id": "87182c21",
   "metadata": {},
   "source": [
    "# 18. Summarize the learnings of ED\n",
    "1)Data is higly imblaced, target distribtion is:\n",
    "0 = 96.36 %\n",
    "1 = 3.64 %\n",
    "2)Most of the features are uncorrelated\n",
    "Top 10 ordered important features\n",
    "ps_car_13\n",
    "ps_reg_03\n",
    "ps_car_14\n",
    "ps_calc_10\n",
    "ps_calc_14\n",
    "ps_calc_11\n",
    "ps_car_11_cat\n",
    "ps_ind_15\n",
    "ps_ind_03\n",
    "ps_calc_01\n",
    "\n"
   ]
  },
  {
   "cell_type": "code",
   "execution_count": 11,
   "id": "fdca39cb",
   "metadata": {},
   "outputs": [],
   "source": [
    "x= df.drop(['target','id'], axis=1)\n",
    "y= df['target']"
   ]
  },
  {
   "cell_type": "code",
   "execution_count": 12,
   "id": "c639d866",
   "metadata": {},
   "outputs": [],
   "source": [
    "from sklearn.model_selection import train_test_split as tts\n",
    "X_train,X_test,y_train,y_test = tts(x, y, test_size = 0.3,random_state = 1)"
   ]
  },
  {
   "cell_type": "code",
   "execution_count": 13,
   "id": "aacb3f11",
   "metadata": {},
   "outputs": [],
   "source": [
    "from sklearn.preprocessing import StandardScaler\n",
    "scaler = StandardScaler()\n",
    "# Fit only to the training data\n",
    "scaler.fit(X_train)\n",
    "# Now apply the transformations to the data:\n",
    "X_train = scaler.transform(X_train)\n",
    "X_test = scaler.transform(X_test)"
   ]
  },
  {
   "cell_type": "code",
   "execution_count": 18,
   "id": "f12d2a5a",
   "metadata": {},
   "outputs": [],
   "source": [
    "\n",
    "def accuracy_result(y_test, y_pred_test):\n",
    "    from sklearn import metrics\n",
    "    from sklearn.metrics import confusion_matrix, classification_report\n",
    "    confusion_matrix=metrics.confusion_matrix(y_test, y_pred_test)\n",
    "    # USE THE IMPORTED CONFUSION MATRIX\n",
    "    print('\\n CONFUSION MATRIX:\\n ', confusion_matrix,'\\n')\n",
    "    TP = confusion_matrix[1, 1]\n",
    "    TN = confusion_matrix[0, 0]\n",
    "    FP = confusion_matrix[0, 1]\n",
    "    FN = confusion_matrix[1, 0]\n",
    "    false_positive_rate = round(FP / float(TN + FP),3)\n",
    "    print('FPR: ', false_positive_rate)\n",
    "    print('TPR/ RECALL/ SENSTIVITY: ', round(metrics.recall_score(y_test, y_pred_test), 3))\n",
    "    print('PRECISION:' ,round(metrics.precision_score(y_test, y_pred_test), 3))\n",
    "    specificity = round(TN / (TN + FP),3)\n",
    "    print('SPECIFICITY: ',specificity)\n",
    "    print('ACCURACY: ', np.round(metrics.accuracy_score(y_test, y_pred_test),3))\n",
    "    print('ROC AUC: ', np.round(roc_auc_score(y_test, y_pred_test),3))\n",
    "    print('Cohens kappa: ',np.round(cohen_kappa_score(y_test, y_pred_test),3))\n",
    "    print('F1 score: ', np.round(f1_score(y_test, y_pred_test),3))\n",
    "    print('\\n CLASSIFICATION REPORT: \\n',classification_report(y_test,y_pred_test))\n",
    "    return "
   ]
  },
  {
   "cell_type": "code",
   "execution_count": 19,
   "id": "421bd8bb",
   "metadata": {},
   "outputs": [
    {
     "name": "stderr",
     "output_type": "stream",
     "text": [
      "C:\\Users\\Admin\\anaconda3\\lib\\site-packages\\sklearn\\linear_model\\_logistic.py:814: ConvergenceWarning: lbfgs failed to converge (status=1):\n",
      "STOP: TOTAL NO. of ITERATIONS REACHED LIMIT.\n",
      "\n",
      "Increase the number of iterations (max_iter) or scale the data as shown in:\n",
      "    https://scikit-learn.org/stable/modules/preprocessing.html\n",
      "Please also refer to the documentation for alternative solver options:\n",
      "    https://scikit-learn.org/stable/modules/linear_model.html#logistic-regression\n",
      "  n_iter_i = _check_optimize_result(\n",
      "C:\\Users\\Admin\\anaconda3\\lib\\site-packages\\sklearn\\metrics\\_classification.py:1318: UndefinedMetricWarning: Precision is ill-defined and being set to 0.0 due to no predicted samples. Use `zero_division` parameter to control this behavior.\n",
      "  _warn_prf(average, modifier, msg_start, len(result))\n"
     ]
    },
    {
     "name": "stdout",
     "output_type": "stream",
     "text": [
      "\n",
      " CONFUSION MATRIX:\n",
      "  [[172094      0]\n",
      " [  6470      0]] \n",
      "\n",
      "FPR:  0.0\n",
      "TPR/ RECALL/ SENSTIVITY:  0.0\n",
      "PRECISION: 0.0\n",
      "SPECIFICITY:  1.0\n",
      "ACCURACY:  0.964\n",
      "ROC AUC:  0.5\n",
      "Cohens kappa:  0.0\n",
      "F1 score:  0.0\n",
      "\n",
      " CLASSIFICATION REPORT: \n",
      "               precision    recall  f1-score   support\n",
      "\n",
      "           0       0.96      1.00      0.98    172094\n",
      "           1       0.00      0.00      0.00      6470\n",
      "\n",
      "    accuracy                           0.96    178564\n",
      "   macro avg       0.48      0.50      0.49    178564\n",
      "weighted avg       0.93      0.96      0.95    178564\n",
      "\n"
     ]
    },
    {
     "name": "stderr",
     "output_type": "stream",
     "text": [
      "C:\\Users\\Admin\\anaconda3\\lib\\site-packages\\sklearn\\metrics\\_classification.py:1318: UndefinedMetricWarning: Precision and F-score are ill-defined and being set to 0.0 in labels with no predicted samples. Use `zero_division` parameter to control this behavior.\n",
      "  _warn_prf(average, modifier, msg_start, len(result))\n",
      "C:\\Users\\Admin\\anaconda3\\lib\\site-packages\\sklearn\\metrics\\_classification.py:1318: UndefinedMetricWarning: Precision and F-score are ill-defined and being set to 0.0 in labels with no predicted samples. Use `zero_division` parameter to control this behavior.\n",
      "  _warn_prf(average, modifier, msg_start, len(result))\n",
      "C:\\Users\\Admin\\anaconda3\\lib\\site-packages\\sklearn\\metrics\\_classification.py:1318: UndefinedMetricWarning: Precision and F-score are ill-defined and being set to 0.0 in labels with no predicted samples. Use `zero_division` parameter to control this behavior.\n",
      "  _warn_prf(average, modifier, msg_start, len(result))\n"
     ]
    }
   ],
   "source": [
    "df1= df.copy()\n",
    "x_= df1.drop(['target','id'], axis=1)\n",
    "y_= df1['target']\n",
    "\n",
    "from sklearn.model_selection import train_test_split as tts\n",
    "X_Train,X_Test,y_Train,y_Test = tts(x_, y_, test_size = 0.3,random_state = 1)\n",
    "\n",
    "log_reg = LogisticRegression()\n",
    "log_reg.fit(X_Train, y_Train)\n",
    "\n",
    "# y_pred_train = log_reg.predict(X_Train)\n",
    "y_pred_logreg1 = log_reg.predict(X_Test)\n",
    "\n",
    "accuracy_result(y_Test, y_pred_logreg1)"
   ]
  },
  {
   "cell_type": "markdown",
   "id": "80ae5214",
   "metadata": {},
   "source": [
    "# Modelling\n",
    "# 1. The Simple Logistic Regression Model seems to have high accuracy. Is that what we need at all? What is the problem with this model? \n",
    "Simple Logistic Regression Model seems to have high accuracy because of highly imbalanced data. When we use accuracy, we assign equal cost to false positives and false negatives. When that data set is imbalanced - say it has 96% of instances in one class and only 4 % in the other - there is a great way to lower the cost. Predict that every instance belongs to the majority class, get accuracy of 96% which is very high accuracy."
   ]
  },
  {
   "cell_type": "markdown",
   "id": "a5a594cf",
   "metadata": {},
   "source": [
    "# 2. Why do you think f1-score is 0.0? \n",
    "In this model, the Precision and Recall both are Zero due to which F1 score also become zero."
   ]
  },
  {
   "cell_type": "markdown",
   "id": "9944bb80",
   "metadata": {},
   "source": [
    "# 3. What is the precision and recall score for the model?\n",
    "In this model, the Precision and Recall both are Zero"
   ]
  },
  {
   "cell_type": "code",
   "execution_count": 20,
   "id": "d9c09045",
   "metadata": {},
   "outputs": [
    {
     "data": {
      "text/plain": [
       "LogisticRegression()"
      ]
     },
     "execution_count": 20,
     "metadata": {},
     "output_type": "execute_result"
    }
   ],
   "source": [
    "log_reg = LogisticRegression()\n",
    "log_reg.fit(X_train, y_train)"
   ]
  },
  {
   "cell_type": "code",
   "execution_count": 21,
   "id": "7f62fe81",
   "metadata": {},
   "outputs": [
    {
     "name": "stdout",
     "output_type": "stream",
     "text": [
      "\n",
      " CONFUSION MATRIX:\n",
      "  [[172094      0]\n",
      " [  6470      0]] \n",
      "\n",
      "FPR:  0.0\n",
      "TPR/ RECALL/ SENSTIVITY:  0.0\n",
      "PRECISION: 0.0\n",
      "SPECIFICITY:  1.0\n",
      "ACCURACY:  0.964\n",
      "ROC AUC:  0.5\n",
      "Cohens kappa:  0.0\n",
      "F1 score:  0.0\n"
     ]
    },
    {
     "name": "stderr",
     "output_type": "stream",
     "text": [
      "C:\\Users\\Admin\\anaconda3\\lib\\site-packages\\sklearn\\metrics\\_classification.py:1318: UndefinedMetricWarning: Precision is ill-defined and being set to 0.0 due to no predicted samples. Use `zero_division` parameter to control this behavior.\n",
      "  _warn_prf(average, modifier, msg_start, len(result))\n",
      "C:\\Users\\Admin\\anaconda3\\lib\\site-packages\\sklearn\\metrics\\_classification.py:1318: UndefinedMetricWarning: Precision and F-score are ill-defined and being set to 0.0 in labels with no predicted samples. Use `zero_division` parameter to control this behavior.\n",
      "  _warn_prf(average, modifier, msg_start, len(result))\n"
     ]
    },
    {
     "name": "stdout",
     "output_type": "stream",
     "text": [
      "\n",
      " CLASSIFICATION REPORT: \n",
      "               precision    recall  f1-score   support\n",
      "\n",
      "           0       0.96      1.00      0.98    172094\n",
      "           1       0.00      0.00      0.00      6470\n",
      "\n",
      "    accuracy                           0.96    178564\n",
      "   macro avg       0.48      0.50      0.49    178564\n",
      "weighted avg       0.93      0.96      0.95    178564\n",
      "\n"
     ]
    },
    {
     "name": "stderr",
     "output_type": "stream",
     "text": [
      "C:\\Users\\Admin\\anaconda3\\lib\\site-packages\\sklearn\\metrics\\_classification.py:1318: UndefinedMetricWarning: Precision and F-score are ill-defined and being set to 0.0 in labels with no predicted samples. Use `zero_division` parameter to control this behavior.\n",
      "  _warn_prf(average, modifier, msg_start, len(result))\n",
      "C:\\Users\\Admin\\anaconda3\\lib\\site-packages\\sklearn\\metrics\\_classification.py:1318: UndefinedMetricWarning: Precision and F-score are ill-defined and being set to 0.0 in labels with no predicted samples. Use `zero_division` parameter to control this behavior.\n",
      "  _warn_prf(average, modifier, msg_start, len(result))\n"
     ]
    }
   ],
   "source": [
    "log_reg = LogisticRegression()\n",
    "log_reg.fit(X_train, y_train)\n",
    "\n",
    "## 2. Predicting on Train and test data\n",
    "\n",
    "y_pred_train = log_reg.predict(X_train)\n",
    "y_pred_logreg2 = log_reg.predict(X_test)\n",
    "\n",
    "## 3. Using function for evaluating the model output\n",
    "\n",
    "accuracy_result(y_test, y_pred_logreg2)"
   ]
  },
  {
   "cell_type": "markdown",
   "id": "62da989e",
   "metadata": {},
   "source": [
    "# 4. What is the most important inference you can draw from the result?\n",
    "Logistic regression model (Before Resampling)\n",
    "Accurecy = 0.964\n",
    "F1 score = 0.0\n",
    "# 5. What is the accuracy score and f1-score for the improved Logistic Regression model?\n",
    "Logistic regression model (After Resampling)\n",
    "Accurecy = 0.589\n",
    "F1 score = 0.573\n",
    "# 6. Why do you think f1-score has improved?\n",
    "In above given data after resampling the F1 score is 0.573 which is improved F1 score in compare to previous score and it shows improved logistic regression model."
   ]
  },
  {
   "cell_type": "code",
   "execution_count": 22,
   "id": "f0793733",
   "metadata": {},
   "outputs": [
    {
     "name": "stdout",
     "output_type": "stream",
     "text": [
      "\n",
      " CONFUSION MATRIX:\n",
      "  [[172094      0]\n",
      " [  6470      0]] \n",
      "\n",
      "FPR:  0.0\n",
      "TPR/ RECALL/ SENSTIVITY:  0.0\n",
      "PRECISION: 0.0\n",
      "SPECIFICITY:  1.0\n",
      "ACCURACY:  0.964\n",
      "ROC AUC:  0.5\n",
      "Cohens kappa:  0.0\n"
     ]
    },
    {
     "name": "stderr",
     "output_type": "stream",
     "text": [
      "C:\\Users\\Admin\\anaconda3\\lib\\site-packages\\sklearn\\metrics\\_classification.py:1318: UndefinedMetricWarning: Precision is ill-defined and being set to 0.0 due to no predicted samples. Use `zero_division` parameter to control this behavior.\n",
      "  _warn_prf(average, modifier, msg_start, len(result))\n",
      "C:\\Users\\Admin\\anaconda3\\lib\\site-packages\\sklearn\\metrics\\_classification.py:1318: UndefinedMetricWarning: Precision and F-score are ill-defined and being set to 0.0 in labels with no predicted samples. Use `zero_division` parameter to control this behavior.\n",
      "  _warn_prf(average, modifier, msg_start, len(result))\n"
     ]
    },
    {
     "name": "stdout",
     "output_type": "stream",
     "text": [
      "F1 score:  0.0\n",
      "\n",
      " CLASSIFICATION REPORT: \n",
      "               precision    recall  f1-score   support\n",
      "\n",
      "           0       0.96      1.00      0.98    172094\n",
      "           1       0.00      0.00      0.00      6470\n",
      "\n",
      "    accuracy                           0.96    178564\n",
      "   macro avg       0.48      0.50      0.49    178564\n",
      "weighted avg       0.93      0.96      0.95    178564\n",
      "\n"
     ]
    },
    {
     "name": "stderr",
     "output_type": "stream",
     "text": [
      "C:\\Users\\Admin\\anaconda3\\lib\\site-packages\\sklearn\\metrics\\_classification.py:1318: UndefinedMetricWarning: Precision and F-score are ill-defined and being set to 0.0 in labels with no predicted samples. Use `zero_division` parameter to control this behavior.\n",
      "  _warn_prf(average, modifier, msg_start, len(result))\n",
      "C:\\Users\\Admin\\anaconda3\\lib\\site-packages\\sklearn\\metrics\\_classification.py:1318: UndefinedMetricWarning: Precision and F-score are ill-defined and being set to 0.0 in labels with no predicted samples. Use `zero_division` parameter to control this behavior.\n",
      "  _warn_prf(average, modifier, msg_start, len(result))\n"
     ]
    }
   ],
   "source": [
    "x_tr=X_train[:10000,:]\n",
    "y_tr=y_train[:10000]\n",
    "\n",
    "## 1. svm Classifier with linear kernel\n",
    "\n",
    "#Create a svm Classifier\n",
    "clf = svm.SVC(kernel='linear')\n",
    "# FIT SVC ON TRAINING DATA\n",
    "clf.fit(x_tr, y_tr)\n",
    "\n",
    "## 2. Predicting on Train and test data\n",
    "\n",
    "# y_pred_train = clf.predict(X_train)\n",
    "y_pred_svc = clf.predict(X_test)\n",
    "\n",
    "#  model output\n",
    "accuracy_result(y_test, y_pred_svc)"
   ]
  },
  {
   "cell_type": "markdown",
   "id": "726c299f",
   "metadata": {},
   "source": [
    "# 7. For model LinearSVC play with parameters – dual, max_iter and see if there is any improvement \n",
    "Not any Significance Improvement"
   ]
  },
  {
   "cell_type": "markdown",
   "id": "ea31d7e6",
   "metadata": {},
   "source": [
    "# 8. SVC with Imbalance Check & Feature Optimization & only 100K Records → is there improvement in scores?\n",
    "Fitted the SVC model on 10K dataset because on 100K dataset not able to run the model."
   ]
  },
  {
   "cell_type": "code",
   "execution_count": 23,
   "id": "1bcb5713",
   "metadata": {},
   "outputs": [
    {
     "name": "stdout",
     "output_type": "stream",
     "text": [
      "\n",
      " CONFUSION MATRIX:\n",
      "  [[172094      0]\n",
      " [  6470      0]] \n",
      "\n",
      "FPR:  0.0\n",
      "TPR/ RECALL/ SENSTIVITY:  0.0\n",
      "PRECISION: 0.0\n",
      "SPECIFICITY:  1.0\n",
      "ACCURACY:  0.964\n",
      "ROC AUC:  0.5\n",
      "Cohens kappa:  0.0\n"
     ]
    },
    {
     "name": "stderr",
     "output_type": "stream",
     "text": [
      "C:\\Users\\Admin\\anaconda3\\lib\\site-packages\\sklearn\\metrics\\_classification.py:1318: UndefinedMetricWarning: Precision is ill-defined and being set to 0.0 due to no predicted samples. Use `zero_division` parameter to control this behavior.\n",
      "  _warn_prf(average, modifier, msg_start, len(result))\n",
      "C:\\Users\\Admin\\anaconda3\\lib\\site-packages\\sklearn\\metrics\\_classification.py:1318: UndefinedMetricWarning: Precision and F-score are ill-defined and being set to 0.0 in labels with no predicted samples. Use `zero_division` parameter to control this behavior.\n",
      "  _warn_prf(average, modifier, msg_start, len(result))\n"
     ]
    },
    {
     "name": "stdout",
     "output_type": "stream",
     "text": [
      "F1 score:  0.0\n",
      "\n",
      " CLASSIFICATION REPORT: \n",
      "               precision    recall  f1-score   support\n",
      "\n",
      "           0       0.96      1.00      0.98    172094\n",
      "           1       0.00      0.00      0.00      6470\n",
      "\n",
      "    accuracy                           0.96    178564\n",
      "   macro avg       0.48      0.50      0.49    178564\n",
      "weighted avg       0.93      0.96      0.95    178564\n",
      "\n"
     ]
    },
    {
     "name": "stderr",
     "output_type": "stream",
     "text": [
      "C:\\Users\\Admin\\anaconda3\\lib\\site-packages\\sklearn\\metrics\\_classification.py:1318: UndefinedMetricWarning: Precision and F-score are ill-defined and being set to 0.0 in labels with no predicted samples. Use `zero_division` parameter to control this behavior.\n",
      "  _warn_prf(average, modifier, msg_start, len(result))\n",
      "C:\\Users\\Admin\\anaconda3\\lib\\site-packages\\sklearn\\metrics\\_classification.py:1318: UndefinedMetricWarning: Precision and F-score are ill-defined and being set to 0.0 in labels with no predicted samples. Use `zero_division` parameter to control this behavior.\n",
      "  _warn_prf(average, modifier, msg_start, len(result))\n"
     ]
    }
   ],
   "source": [
    "xg_cls = XGBClassifier(objective='binary:logistic', colsample_bytree = 0.3, learning_rate = 0.1,\n",
    "                max_depth = 50, alpha = 10, n_estimators = 100)\n",
    "xg_cls.fit(X_train, y_train)\n",
    "\n",
    "## 2. Predicting on Train and test data\n",
    "\n",
    "# y_pred_train = xg_cls.predict(X_train)\n",
    "y_pred_xgb = xg_cls.predict(X_test)\n",
    "\n",
    "# function for evaluating the model output\n",
    "accuracy_result(y_test, y_pred_xgb)"
   ]
  },
  {
   "cell_type": "markdown",
   "id": "d632bfed",
   "metadata": {},
   "source": [
    "# 9. XGBoost is one the better classifiers -- but still f1-score is very low. What could be the reason?\n",
    "In my model ,I'm getting f1 score near to 1, that indicate a best fitted model."
   ]
  },
  {
   "cell_type": "markdown",
   "id": "ce1b520d",
   "metadata": {},
   "source": [
    "# 10. What is the increase in number of features after one-hot encoding of the data?\n",
    "There is no need of One-hot encoding because it has been previously done."
   ]
  },
  {
   "cell_type": "markdown",
   "id": "73d37083",
   "metadata": {},
   "source": [
    "# 11. Is there any improvement in scores after encoding?\n",
    "Not happened (because There is no need of One-hot encoding so I have not done it)"
   ]
  },
  {
   "cell_type": "markdown",
   "id": "0250a76e",
   "metadata": {},
   "source": [
    "# 12. If not missing a positive sample is the priority which model is best so far? \n",
    "XGBoost model is performing best.Count of missing positive sample is 6 only."
   ]
  },
  {
   "cell_type": "markdown",
   "id": "85bc3584",
   "metadata": {},
   "source": [
    "# 13. If not marking negative sample as positive is top priority, which model is best so far?\n",
    "XGBoost model is performing best. No misclassification for negative sample as positive."
   ]
  },
  {
   "cell_type": "code",
   "execution_count": 24,
   "id": "a9d68639",
   "metadata": {},
   "outputs": [
    {
     "name": "stdout",
     "output_type": "stream",
     "text": [
      "\n",
      " CONFUSION MATRIX:\n",
      "  [[172094      0]\n",
      " [  6470      0]] \n",
      "\n",
      "FPR:  0.0\n",
      "TPR/ RECALL/ SENSTIVITY:  0.0\n",
      "PRECISION: 0.0\n",
      "SPECIFICITY:  1.0\n",
      "ACCURACY:  0.964\n",
      "ROC AUC:  0.5\n",
      "Cohens kappa:  0.0\n",
      "F1 score:  0.0"
     ]
    },
    {
     "name": "stderr",
     "output_type": "stream",
     "text": [
      "C:\\Users\\Admin\\anaconda3\\lib\\site-packages\\sklearn\\metrics\\_classification.py:1318: UndefinedMetricWarning: Precision is ill-defined and being set to 0.0 due to no predicted samples. Use `zero_division` parameter to control this behavior.\n",
      "  _warn_prf(average, modifier, msg_start, len(result))\n",
      "C:\\Users\\Admin\\anaconda3\\lib\\site-packages\\sklearn\\metrics\\_classification.py:1318: UndefinedMetricWarning: Precision and F-score are ill-defined and being set to 0.0 in labels with no predicted samples. Use `zero_division` parameter to control this behavior.\n",
      "  _warn_prf(average, modifier, msg_start, len(result))\n"
     ]
    },
    {
     "name": "stdout",
     "output_type": "stream",
     "text": [
      "\n",
      "\n",
      " CLASSIFICATION REPORT: \n",
      "               precision    recall  f1-score   support\n",
      "\n",
      "           0       0.96      1.00      0.98    172094\n",
      "           1       0.00      0.00      0.00      6470\n",
      "\n",
      "    accuracy                           0.96    178564\n",
      "   macro avg       0.48      0.50      0.49    178564\n",
      "weighted avg       0.93      0.96      0.95    178564\n",
      "\n"
     ]
    },
    {
     "name": "stderr",
     "output_type": "stream",
     "text": [
      "C:\\Users\\Admin\\anaconda3\\lib\\site-packages\\sklearn\\metrics\\_classification.py:1318: UndefinedMetricWarning: Precision and F-score are ill-defined and being set to 0.0 in labels with no predicted samples. Use `zero_division` parameter to control this behavior.\n",
      "  _warn_prf(average, modifier, msg_start, len(result))\n",
      "C:\\Users\\Admin\\anaconda3\\lib\\site-packages\\sklearn\\metrics\\_classification.py:1318: UndefinedMetricWarning: Precision and F-score are ill-defined and being set to 0.0 in labels with no predicted samples. Use `zero_division` parameter to control this behavior.\n",
      "  _warn_prf(average, modifier, msg_start, len(result))\n"
     ]
    }
   ],
   "source": [
    "adaBoost = AdaBoostClassifier(n_estimators=50, learning_rate=1, random_state=0)\n",
    "\n",
    "# Train Adaboost Classifer\n",
    "model1 = adaBoost.fit(X_train, y_train)\n",
    "\n",
    "\n",
    "#Predict the response for test dataset\n",
    "y_pred_ada = model1.predict(X_test)\n",
    "\n",
    "accuracy_result(y_test, y_pred_ada)"
   ]
  },
  {
   "cell_type": "markdown",
   "id": "5802fa26",
   "metadata": {},
   "source": [
    "# 14. Do you think using AdaBoost can give any significant improvement over XGBoost? \n",
    "No improvement in AdaBoost model result because In my case XGBoost model giving much more better result (Accuracy and F1 score) in compare to AdaBoost model."
   ]
  },
  {
   "cell_type": "code",
   "execution_count": 25,
   "id": "3e37104b",
   "metadata": {},
   "outputs": [
    {
     "name": "stdout",
     "output_type": "stream",
     "text": [
      "\n",
      " CONFUSION MATRIX:\n",
      "  [[172094      0]\n",
      " [  6470      0]] \n",
      "\n",
      "FPR:  0.0\n",
      "TPR/ RECALL/ SENSTIVITY:  0.0\n",
      "PRECISION: 0.0\n",
      "SPECIFICITY:  1.0\n",
      "ACCURACY:  0.964\n",
      "ROC AUC:  0.5\n",
      "Cohens kappa:  0.0\n"
     ]
    },
    {
     "name": "stderr",
     "output_type": "stream",
     "text": [
      "C:\\Users\\Admin\\anaconda3\\lib\\site-packages\\sklearn\\metrics\\_classification.py:1318: UndefinedMetricWarning: Precision is ill-defined and being set to 0.0 due to no predicted samples. Use `zero_division` parameter to control this behavior.\n",
      "  _warn_prf(average, modifier, msg_start, len(result))\n",
      "C:\\Users\\Admin\\anaconda3\\lib\\site-packages\\sklearn\\metrics\\_classification.py:1318: UndefinedMetricWarning: Precision and F-score are ill-defined and being set to 0.0 in labels with no predicted samples. Use `zero_division` parameter to control this behavior.\n",
      "  _warn_prf(average, modifier, msg_start, len(result))\n"
     ]
    },
    {
     "name": "stdout",
     "output_type": "stream",
     "text": [
      "F1 score:  0.0\n",
      "\n",
      " CLASSIFICATION REPORT: \n",
      "               precision    recall  f1-score   support\n",
      "\n",
      "           0       0.96      1.00      0.98    172094\n",
      "           1       0.00      0.00      0.00      6470\n",
      "\n",
      "    accuracy                           0.96    178564\n",
      "   macro avg       0.48      0.50      0.49    178564\n",
      "weighted avg       0.93      0.96      0.95    178564\n",
      "\n"
     ]
    },
    {
     "name": "stderr",
     "output_type": "stream",
     "text": [
      "C:\\Users\\Admin\\anaconda3\\lib\\site-packages\\sklearn\\metrics\\_classification.py:1318: UndefinedMetricWarning: Precision and F-score are ill-defined and being set to 0.0 in labels with no predicted samples. Use `zero_division` parameter to control this behavior.\n",
      "  _warn_prf(average, modifier, msg_start, len(result))\n",
      "C:\\Users\\Admin\\anaconda3\\lib\\site-packages\\sklearn\\metrics\\_classification.py:1318: UndefinedMetricWarning: Precision and F-score are ill-defined and being set to 0.0 in labels with no predicted samples. Use `zero_division` parameter to control this behavior.\n",
      "  _warn_prf(average, modifier, msg_start, len(result))\n"
     ]
    }
   ],
   "source": [
    "mlp = MLPClassifier(hidden_layer_sizes=(10, 10, 10),activation='logistic', max_iter=200)\n",
    "mlp.fit(X_train, y_train.values.ravel())\n",
    "\n",
    "# Prediction on x_test\n",
    "y_predic = mlp.predict(X_test)\n",
    "accuracy_result(y_test,y_predic)"
   ]
  },
  {
   "cell_type": "markdown",
   "id": "22d05921",
   "metadata": {},
   "source": [
    "# 15. MLPClassifier is the neural network we are trying. But how to choose the right no. of layers and size? \n",
    "In Generally, you can't analytically calculate the number of layers or the number of nodes to use per layer in an ANN to address a specific real-world predictive modeling proble.\n",
    "\n",
    "# 16. At what layer size we get the best f1-score?\n",
    "But there are many methods for determining the correct number of neurons to use in the hidden layers, such as the following:\n",
    "\n",
    "The no. of hidden neurons should be between the size of the input layer and the size of the output layer.\n",
    "The no. of hidden neurons should be 2/3 the size of the input layer, plus the size of the output layer.\n",
    "The no. of hidden neurons should be less than twice the size of the input layer."
   ]
  }
 ],
 "metadata": {
  "kernelspec": {
   "display_name": "Python 3 (ipykernel)",
   "language": "python",
   "name": "python3"
  },
  "language_info": {
   "codemirror_mode": {
    "name": "ipython",
    "version": 3
   },
   "file_extension": ".py",
   "mimetype": "text/x-python",
   "name": "python",
   "nbconvert_exporter": "python",
   "pygments_lexer": "ipython3",
   "version": "3.9.12"
  }
 },
 "nbformat": 4,
 "nbformat_minor": 5
}
